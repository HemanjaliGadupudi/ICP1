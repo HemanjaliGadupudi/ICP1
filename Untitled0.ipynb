{
  "nbformat": 4,
  "nbformat_minor": 0,
  "metadata": {
    "colab": {
      "provenance": [],
      "authorship_tag": "ABX9TyM0jawrhUWJCZVjA0pk9xpW",
      "include_colab_link": true
    },
    "kernelspec": {
      "name": "python3",
      "display_name": "Python 3"
    },
    "language_info": {
      "name": "python"
    }
  },
  "cells": [
    {
      "cell_type": "markdown",
      "metadata": {
        "id": "view-in-github",
        "colab_type": "text"
      },
      "source": [
        "<a href=\"https://colab.research.google.com/github/HemanjaliGadupudi/ICP1/blob/main/Untitled0.ipynb\" target=\"_parent\"><img src=\"https://colab.research.google.com/assets/colab-badge.svg\" alt=\"Open In Colab\"/></a>"
      ]
    },
    {
      "cell_type": "code",
      "execution_count": null,
      "metadata": {
        "id": "Tqd6ffh3yHky"
      },
      "outputs": [],
      "source": []
    },
    {
      "cell_type": "code",
      "source": [
        "# Part a: Modify and Reverse a String\n",
        "\n",
        "# Input the string as a list of characters\n",
        "input_str = input(\"Enter the string: \")  # Example input: Python\n",
        "char_list = list(input_str)\n",
        "\n",
        "# Delete at least two characters (e.g., remove characters at index 0 and 4)\n",
        "# Ensure the indices exist to avoid IndexError\n",
        "indices_to_remove = [0, 4]\n",
        "for index in sorted(indices_to_remove, reverse=True):\n",
        "    if 0 <= index < len(char_list):\n",
        "        del char_list[index]\n",
        "\n",
        "# Reverse the resultant list\n",
        "char_list.reverse()\n",
        "\n",
        "# Convert the list back to a string and print\n",
        "result_str = ''.join(char_list)\n",
        "print(\"Modified and Reversed String:\", result_str)\n"
      ],
      "metadata": {
        "colab": {
          "base_uri": "https://localhost:8080/"
        },
        "id": "J_WsKxnc8jaD",
        "outputId": "9d7ec5dc-b9f8-489f-b6a4-db1da11ce4a0"
      },
      "execution_count": 1,
      "outputs": [
        {
          "output_type": "stream",
          "name": "stdout",
          "text": [
            "Enter the string: name\n",
            "Modified and Reversed String: ema\n"
          ]
        }
      ]
    },
    {
      "cell_type": "code",
      "source": [
        "# Part b: Arithmetic Operations on Two Numbers\n",
        "\n",
        "# Take two numbers from the user\n",
        "num1 = float(input(\"Enter the first number: \"))\n",
        "num2 = float(input(\"Enter the second number: \"))\n",
        "\n",
        "# Perform arithmetic operations\n",
        "addition = num1 + num2\n",
        "subtraction = num1 - num2\n",
        "multiplication = num1 * num2\n",
        "\n",
        "# Handle division by zero\n",
        "if num2 != 0:\n",
        "    division = num1 / num2\n",
        "else:\n",
        "    division = \"Undefined (division by zero)\"\n",
        "\n",
        "# Display the results\n",
        "print(f\"Addition: {addition}\")\n",
        "print(f\"Subtraction: {subtraction}\")\n",
        "print(f\"Multiplication: {multiplication}\")\n",
        "print(f\"Division: {division}\")\n"
      ],
      "metadata": {
        "colab": {
          "base_uri": "https://localhost:8080/"
        },
        "id": "fNxnTjkh9AOH",
        "outputId": "c61ebed8-8569-43e7-eea6-0c9fa93d8339"
      },
      "execution_count": 2,
      "outputs": [
        {
          "output_type": "stream",
          "name": "stdout",
          "text": [
            "Enter the first number: 29\n",
            "Enter the second number: 12\n",
            "Addition: 41.0\n",
            "Subtraction: 17.0\n",
            "Multiplication: 348.0\n",
            "Division: 2.4166666666666665\n"
          ]
        }
      ]
    },
    {
      "cell_type": "code",
      "source": [
        "\n",
        "\n"
      ],
      "metadata": {
        "id": "u3v9k588-bVH"
      },
      "execution_count": null,
      "outputs": []
    },
    {
      "cell_type": "code",
      "source": [
        "# Accept a sentence from the user\n",
        "sentence = input(\"Enter a sentence: \")\n",
        "\n",
        "# Use the replace() method to change 'python' to 'pythons'\n",
        "# This replaces all occurrences (case-sensitive)\n",
        "updated = sentence.replace(\"python\", \"pythons\")\n",
        "\n",
        "# Print the result\n",
        "print(updated)\n"
      ],
      "metadata": {
        "colab": {
          "base_uri": "https://localhost:8080/"
        },
        "id": "VSKcVzXc-j9_",
        "outputId": "bd18a9df-7f00-4d78-ff4c-988e5c848172"
      },
      "execution_count": 3,
      "outputs": [
        {
          "output_type": "stream",
          "name": "stdout",
          "text": [
            "Enter a sentence: i am using colab\n",
            "i am using colab\n"
          ]
        }
      ]
    },
    {
      "cell_type": "code",
      "source": [
        "# Accept a numeric score from the user\n",
        "score = float(input(\"Enter your class score (0–100): \"))\n",
        "\n",
        "# Determine the letter grade using if‑elif‑else\n",
        "if score >= 90:\n",
        "    grade = 'A'\n",
        "elif score >= 80:\n",
        "    grade = 'B'\n",
        "elif score >= 70:\n",
        "    grade = 'C'\n",
        "elif score >= 60:\n",
        "    grade = 'D'\n",
        "else:\n",
        "    grade = 'F'\n",
        "\n",
        "print(f\"Your letter grade is: {grade}\")\n"
      ],
      "metadata": {
        "colab": {
          "base_uri": "https://localhost:8080/"
        },
        "id": "Q4JQN9Po_VpC",
        "outputId": "07523389-802c-4ece-b384-5ac1a77e44c1"
      },
      "execution_count": 4,
      "outputs": [
        {
          "output_type": "stream",
          "name": "stdout",
          "text": [
            "Enter your class score (0–100): 95\n",
            "Your letter grade is: A\n"
          ]
        }
      ]
    },
    {
      "cell_type": "code",
      "source": [],
      "metadata": {
        "id": "3iAASAj2_31X"
      },
      "execution_count": null,
      "outputs": []
    },
    {
      "cell_type": "code",
      "source": [
        "# Given list\n",
        "x = [23, 'Python', 23.98]\n",
        "\n",
        "# Print original list\n",
        "print(x)\n",
        "\n",
        "# Create a new list with the type of each element\n",
        "types_list = [type(item) for item in x]\n",
        "\n",
        "# Print the list of types\n",
        "print(types_list)\n"
      ],
      "metadata": {
        "colab": {
          "base_uri": "https://localhost:8080/"
        },
        "id": "LAYmGodv_8xe",
        "outputId": "27177a98-2edb-404d-b74f-7ef5fee47a7c"
      },
      "execution_count": 5,
      "outputs": [
        {
          "output_type": "stream",
          "name": "stdout",
          "text": [
            "[23, 'Python', 23.98]\n",
            "[<class 'int'>, <class 'str'>, <class 'float'>]\n"
          ]
        }
      ]
    },
    {
      "cell_type": "code",
      "source": [
        "# Given data\n",
        "IT_companies = {'Facebook', 'Google', 'Microsoft', 'Apple', 'IBM', 'Oracle', 'Amazon'}\n",
        "A = {19, 22, 24, 20, 25, 26}\n",
        "B = {19, 22, 20, 25, 26, 24, 28, 27}\n",
        "age = [22, 19, 24, 25, 26, 24, 25, 24]\n",
        "\n",
        "# 1. Length of IT_companies\n",
        "print(\"1. Number of companies:\", len(IT_companies))\n",
        "\n",
        "# 2. Add 'Twitter'\n",
        "IT_companies.add('Twitter')\n",
        "print(\"2. After adding Twitter:\", IT_companies)\n",
        "\n",
        "# 3. Insert multiple IT companies at once\n",
        "IT_companies.update(['Spotify', 'Tesla', 'Netflix'])\n",
        "print(\"3. After adding multiple:\", IT_companies)\n",
        "\n",
        "# 4. Remove one company\n",
        "IT_companies.remove('IBM')  # Raises KeyError if not found\n",
        "print(\"4. After removing IBM:\", IT_companies)\n",
        "\n",
        "# 5. Difference between remove and discard\n",
        "#    remove() throws KeyError if missing; discard() does nothing\n",
        "#    (explanation in comments below)\n",
        "\n",
        "# 6. Join A and B (union)\n",
        "union_AB = A.union(B)\n",
        "print(\"6. A ∪ B:\", union_AB)\n",
        "\n",
        "# 7. A intersection B\n",
        "intersection_AB = A.intersection(B)\n",
        "print(\"7. A ∩ B:\", intersection_AB)\n",
        "\n",
        "# 8. Is A subset of B?\n",
        "print(\"8. Is A ⊆ B?\", A.issubset(B))\n",
        "\n",
        "# 9. Are A and B disjoint?\n",
        "print(\"9. Are A and B disjoint?\", A.isdisjoint(B))\n",
        "\n",
        "# 10. Join A with B and B with A (same as union, but show both)\n",
        "print(\"10a. A ∪ B:\", A | B)\n",
        "print(\"10b. B ∪ A:\", B.union(A))\n",
        "\n",
        "# 11. Symmetric difference between A and B\n",
        "sym_diff = A.symmetric_difference(B)\n",
        "print(\"11. A Δ B (sym diff):\", sym_diff)\n",
        "\n",
        "# 12. Delete the sets completely\n",
        "del A\n",
        "del B\n",
        "\n",
        "# 13. Convert ages to set and compare lengths\n",
        "age_set = set(age)\n",
        "print(\"13. List length:\", len(age))\n",
        "print(\"    Set length:\", len(age_set))\n"
      ],
      "metadata": {
        "colab": {
          "base_uri": "https://localhost:8080/"
        },
        "id": "bJcMt3tTAZHq",
        "outputId": "aba0184f-eb1f-4fd7-c67e-f0d1e000d33f"
      },
      "execution_count": 6,
      "outputs": [
        {
          "output_type": "stream",
          "name": "stdout",
          "text": [
            "1. Number of companies: 7\n",
            "2. After adding Twitter: {'Google', 'Twitter', 'Facebook', 'IBM', 'Oracle', 'Apple', 'Amazon', 'Microsoft'}\n",
            "3. After adding multiple: {'Google', 'Twitter', 'Apple', 'Amazon', 'Tesla', 'Facebook', 'Oracle', 'Netflix', 'IBM', 'Spotify', 'Microsoft'}\n",
            "4. After removing IBM: {'Google', 'Twitter', 'Apple', 'Amazon', 'Tesla', 'Facebook', 'Oracle', 'Netflix', 'Spotify', 'Microsoft'}\n",
            "6. A ∪ B: {19, 20, 22, 24, 25, 26, 27, 28}\n",
            "7. A ∩ B: {19, 20, 22, 24, 25, 26}\n",
            "8. Is A ⊆ B? True\n",
            "9. Are A and B disjoint? False\n",
            "10a. A ∪ B: {19, 20, 22, 24, 25, 26, 27, 28}\n",
            "10b. B ∪ A: {19, 20, 22, 24, 25, 26, 27, 28}\n",
            "11. A Δ B (sym diff): {27, 28}\n",
            "13. List length: 8\n",
            "    Set length: 5\n"
          ]
        }
      ]
    }
  ]
}